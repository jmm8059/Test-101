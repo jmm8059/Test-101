{
  "nbformat": 4,
  "nbformat_minor": 0,
  "metadata": {
    "colab": {
      "name": "Starting Notebook",
      "provenance": [],
      "authorship_tag": "ABX9TyOp/EvDy+hIJT+8N7jKV7dw",
      "include_colab_link": true
    },
    "kernelspec": {
      "name": "python3",
      "display_name": "Python 3"
    }
  },
  "cells": [
    {
      "cell_type": "markdown",
      "metadata": {
        "id": "view-in-github",
        "colab_type": "text"
      },
      "source": [
        "<a href=\"https://colab.research.google.com/github/jmm8059/Test-101/blob/master/Starting_Notebook.ipynb\" target=\"_parent\"><img src=\"https://colab.research.google.com/assets/colab-badge.svg\" alt=\"Open In Colab\"/></a>"
      ]
    },
    {
      "cell_type": "code",
      "metadata": {
        "id": "71ciJeMC4r20",
        "colab_type": "code",
        "colab": {
          "base_uri": "https://localhost:8080/",
          "height": 35
        },
        "outputId": "0995a13c-5df6-45f3-9c5d-846ac309f37b"
      },
      "source": [
        "2 + 2"
      ],
      "execution_count": 1,
      "outputs": [
        {
          "output_type": "execute_result",
          "data": {
            "text/plain": [
              "4"
            ]
          },
          "metadata": {
            "tags": []
          },
          "execution_count": 1
        }
      ]
    },
    {
      "cell_type": "code",
      "metadata": {
        "id": "tLRK4zSD5tiD",
        "colab_type": "code",
        "colab": {}
      },
      "source": [
        ""
      ],
      "execution_count": 0,
      "outputs": []
    },
    {
      "cell_type": "markdown",
      "metadata": {
        "id": "L4YhsA_85vPi",
        "colab_type": "text"
      },
      "source": [
        "#Abstract\n"
      ]
    },
    {
      "cell_type": "markdown",
      "metadata": {
        "id": "7JdCmE9252bA",
        "colab_type": "text"
      },
      "source": [
        "Introduction"
      ]
    },
    {
      "cell_type": "markdown",
      "metadata": {
        "id": "EEPdjH1_6Di5",
        "colab_type": "text"
      },
      "source": [
        "![alt text](https://raw.githubusercontent.com/jmm8059/Test-101/master/github%20profile.jpg)"
      ]
    }
  ]
}